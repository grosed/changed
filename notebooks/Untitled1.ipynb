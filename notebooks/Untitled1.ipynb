{
 "cells": [
  {
   "cell_type": "code",
   "execution_count": 7,
   "id": "91379dac",
   "metadata": {},
   "outputs": [
    {
     "name": "stdout",
     "output_type": "stream",
     "text": [
      "\u001b[33mWARNING: Invalid requirement: '/home/grosedj/work/changes/python/package' ignored - the uninstall command expects named requirements.\u001b[0m\u001b[33m\r\n",
      "\u001b[0m\u001b[31mERROR: You must give at least one requirement to uninstall (see \"pip help uninstall\")\u001b[0m\u001b[31m\r\n",
      "\u001b[0m"
     ]
    }
   ],
   "source": [
    "!python -m pip uninstall ~/work/changes/python/package "
   ]
  },
  {
   "cell_type": "code",
   "execution_count": 4,
   "id": "83885886",
   "metadata": {},
   "outputs": [
    {
     "name": "stdout",
     "output_type": "stream",
     "text": [
      "Processing /home/grosedj/work/changes/python/package\n",
      "  Installing build dependencies ... \u001b[?25ldone\n",
      "\u001b[?25h  Getting requirements to build wheel ... \u001b[?25ldone\n",
      "\u001b[?25h  Installing backend dependencies ... \u001b[?25ldone\n",
      "\u001b[?25h  Preparing metadata (pyproject.toml) ... \u001b[?25ldone\n",
      "\u001b[?25hCollecting sortedcontainers (from changes==0.0.1)\n",
      "  Using cached sortedcontainers-2.4.0-py2.py3-none-any.whl (29 kB)\n",
      "Building wheels for collected packages: changes\n",
      "  Building wheel for changes (pyproject.toml) ... \u001b[?25ldone\n",
      "\u001b[?25h  Created wheel for changes: filename=changes-0.0.1-py3-none-any.whl size=14360 sha256=21ab982047aa07d56aa12079f8d1ea54ba007fb7bd5e20cebb577ce596f085e2\n",
      "  Stored in directory: /tmp/pip-ephem-wheel-cache-kpxj0ql8/wheels/97/35/04/7f503d82f065ed32bf15b76bb43295ce1bc0e95f8deeecdaad\n",
      "Successfully built changes\n",
      "Installing collected packages: sortedcontainers, changes\n",
      "Successfully installed changes-0.0.1 sortedcontainers-2.4.0\n"
     ]
    }
   ],
   "source": [
    "!python -m pip install ~/work/changes/python/package "
   ]
  },
  {
   "cell_type": "code",
   "execution_count": 1,
   "id": "5024d027",
   "metadata": {},
   "outputs": [],
   "source": [
    "from changes import core"
   ]
  },
  {
   "cell_type": "code",
   "execution_count": 2,
   "id": "c43c059e",
   "metadata": {},
   "outputs": [
    {
     "ename": "NameError",
     "evalue": "name 'point_function' is not defined",
     "output_type": "error",
     "traceback": [
      "\u001b[0;31m---------------------------------------------------------------------------\u001b[0m",
      "\u001b[0;31mNameError\u001b[0m                                 Traceback (most recent call last)",
      "Cell \u001b[0;32mIn[2], line 1\u001b[0m\n\u001b[0;32m----> 1\u001b[0m f \u001b[38;5;241m=\u001b[39m \u001b[43mpoint_function\u001b[49m()\n",
      "\u001b[0;31mNameError\u001b[0m: name 'point_function' is not defined"
     ]
    }
   ],
   "source": [
    "f = point_function()"
   ]
  }
 ],
 "metadata": {
  "kernelspec": {
   "display_name": "Python 3 (ipykernel)",
   "language": "python",
   "name": "python3"
  },
  "language_info": {
   "codemirror_mode": {
    "name": "ipython",
    "version": 3
   },
   "file_extension": ".py",
   "mimetype": "text/x-python",
   "name": "python",
   "nbconvert_exporter": "python",
   "pygments_lexer": "ipython3",
   "version": "3.10.0"
  }
 },
 "nbformat": 4,
 "nbformat_minor": 5
}
